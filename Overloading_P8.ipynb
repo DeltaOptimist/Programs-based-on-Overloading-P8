{
  "nbformat": 4,
  "nbformat_minor": 0,
  "metadata": {
    "colab": {
      "provenance": []
    },
    "kernelspec": {
      "name": "python3",
      "display_name": "Python 3"
    },
    "language_info": {
      "name": "python"
    }
  },
  "cells": [
    {
      "cell_type": "markdown",
      "source": [
        "Using Function Overloading in Python, let us write a code to calculate the area of figures(triangle, rectangle, square). \n",
        "\n",
        "We are setting the default values of the parameters as None, and we will call the same function having varying parameters."
      ],
      "metadata": {
        "id": "hQ89Zzm2RLh-"
      }
    },
    {
      "cell_type": "code",
      "execution_count": 1,
      "metadata": {
        "id": "riWEiZ_GQCVP"
      },
      "outputs": [],
      "source": [
        "class areaClass:\n",
        "    def area(self,a,b=None,c=None,d=None):\n",
        "        \n",
        "        #when a and c are passed as arguments\n",
        "        if a!=None and b!=None and a!=b and a!=c:\n",
        "            print(\"Area of the triangle\",(0.5*a*b))\n",
        "            \n",
        "         #when a,b,c and d are passed as arguments   \n",
        "        elif(b!=None and c!=None and d!=None and a==b and a==c):\n",
        "             print(\"Area of the square\",(a*c))\n",
        "                \n",
        "        elif(b==None and c==None and d==None):\n",
        "            print(\"Enter more numbers\")\n",
        "        else: \n",
        "            if(a==c):\n",
        "                print(\"Area of the rectangle\",(a*b))\n",
        "            else:\n",
        "                print(\"Area of the rectangle\",(a*c))\n",
        "        "
      ]
    },
    {
      "cell_type": "code",
      "source": [
        "obj=areaClass()\n",
        "obj.area(19,8,77)#Area of the triangle 76.0\n",
        "obj.area(18,18,18,18)#Area of the square 324\n",
        "obj.area(72,38,72,38)#Area of the rectangle 2736"
      ],
      "metadata": {
        "colab": {
          "base_uri": "https://localhost:8080/"
        },
        "id": "fUEUxrJ4RZiG",
        "outputId": "6135b04e-aa37-4b02-8862-6b35400c02a7"
      },
      "execution_count": 2,
      "outputs": [
        {
          "output_type": "stream",
          "name": "stdout",
          "text": [
            "Area of the triangle 76.0\n",
            "Area of the square 324\n",
            "Area of the rectangle 2736\n"
          ]
        }
      ]
    },
    {
      "cell_type": "markdown",
      "source": [
        "Function overloading is the feature when multiple functions have the same name but the number of parameters in the functions varies."
      ],
      "metadata": {
        "id": "o8mdXbe0RtKN"
      }
    },
    {
      "cell_type": "code",
      "source": [],
      "metadata": {
        "id": "l7gQKkc0Ra6T"
      },
      "execution_count": null,
      "outputs": []
    }
  ]
}